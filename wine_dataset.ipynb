{
  "nbformat": 4,
  "nbformat_minor": 0,
  "metadata": {
    "colab": {
      "provenance": [],
      "authorship_tag": "ABX9TyNQXwj3qfgLZLaLIaU4MDfm",
      "include_colab_link": true
    },
    "kernelspec": {
      "name": "python3",
      "display_name": "Python 3"
    },
    "language_info": {
      "name": "python"
    }
  },
  "cells": [
    {
      "cell_type": "markdown",
      "metadata": {
        "id": "view-in-github",
        "colab_type": "text"
      },
      "source": [
        "<a href=\"https://colab.research.google.com/github/sri-7198/ENCORED/blob/main/q7.ipynb\" target=\"_parent\"><img src=\"https://colab.research.google.com/assets/colab-badge.svg\" alt=\"Open In Colab\"/></a>"
      ]
    },
    {
      "cell_type": "code",
      "execution_count": 13,
      "metadata": {
        "colab": {
          "base_uri": "https://localhost:8080/"
        },
        "id": "qyZNIXNh0a7l",
        "outputId": "b3734241-dfad-4473-e66c-b401e0d23895"
      },
      "outputs": [
        {
          "output_type": "stream",
          "name": "stdout",
          "text": [
            "Data Types Before Conversion:\n",
            "Class                             int64\n",
            "Alcohol                         float64\n",
            "Malic acid                      float64\n",
            "Ash                             float64\n",
            "Alcalinity of ash               float64\n",
            "Magnesium                         int64\n",
            "Total phenols                   float64\n",
            "Flavanoids                      float64\n",
            "Nonflavanoid phenols            float64\n",
            "Proanthocyanins                 float64\n",
            "Color intensity                 float64\n",
            "Hue                             float64\n",
            "OD280/OD315 of diluted wines    float64\n",
            "Proline                           int64\n",
            "dtype: object\n",
            "\n",
            "Data Types After Conversion:\n",
            "Class                           category\n",
            "Alcohol                          float64\n",
            "Malic acid                       float64\n",
            "Ash                              float64\n",
            "Alcalinity of ash                float64\n",
            "Magnesium                        float64\n",
            "Total phenols                    float64\n",
            "Flavanoids                       float64\n",
            "Nonflavanoid phenols             float64\n",
            "Proanthocyanins                  float64\n",
            "Color intensity                  float64\n",
            "Hue                              float64\n",
            "OD280/OD315 of diluted wines     float64\n",
            "Proline                          float64\n",
            "dtype: object\n"
          ]
        }
      ],
      "source": [
        "import pandas as pd\n",
        "\n",
        "# Load the dataset from a local file\n",
        "file_path = \"wine.data\"\n",
        "column_names = [\n",
        "    \"Class\", \"Alcohol\", \"Malic acid\", \"Ash\", \"Alcalinity of ash\", \"Magnesium\",\n",
        "    \"Total phenols\", \"Flavanoids\", \"Nonflavanoid phenols\", \"Proanthocyanins\",\n",
        "    \"Color intensity\", \"Hue\", \"OD280/OD315 of diluted wines\", \"Proline\"\n",
        "]\n",
        "wine_data = pd.read_csv(file_path, names=column_names)\n",
        "\n",
        "# Display data types of columns before conversion\n",
        "print(\"Data Types Before Conversion:\")\n",
        "print(wine_data.dtypes)\n",
        "\n",
        "# Convert 'Class' column to categorical\n",
        "wine_data['Class'] = wine_data['Class'].astype('category')\n",
        "\n",
        "# Convert other numerical columns to appropriate data types (e.g., float)\n",
        "numerical_columns = [\n",
        "    \"Alcohol\", \"Malic acid\", \"Ash\", \"Alcalinity of ash\", \"Magnesium\",\n",
        "    \"Total phenols\", \"Flavanoids\", \"Nonflavanoid phenols\", \"Proanthocyanins\",\n",
        "    \"Color intensity\", \"Hue\", \"OD280/OD315 of diluted wines\", \"Proline\"\n",
        "]\n",
        "wine_data[numerical_columns] = wine_data[numerical_columns].astype(float)\n",
        "\n",
        "# Display data types of columns after conversion\n",
        "print(\"\\nData Types After Conversion:\")\n",
        "print(wine_data.dtypes)\n"
      ]
    }
  ]
}
