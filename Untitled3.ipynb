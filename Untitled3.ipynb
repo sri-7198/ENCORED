{
  "nbformat": 4,
  "nbformat_minor": 0,
  "metadata": {
    "colab": {
      "provenance": [],
      "authorship_tag": "ABX9TyP3QxAAHxEIi4hhuwyLArv1",
      "include_colab_link": true
    },
    "kernelspec": {
      "name": "python3",
      "display_name": "Python 3"
    },
    "language_info": {
      "name": "python"
    }
  },
  "cells": [
    {
      "cell_type": "markdown",
      "metadata": {
        "id": "view-in-github",
        "colab_type": "text"
      },
      "source": [
        "<a href=\"https://colab.research.google.com/github/sri-7198/ENCORED/blob/main/Untitled3.ipynb\" target=\"_parent\"><img src=\"https://colab.research.google.com/assets/colab-badge.svg\" alt=\"Open In Colab\"/></a>"
      ]
    },
    {
      "cell_type": "code",
      "execution_count": 2,
      "metadata": {
        "colab": {
          "base_uri": "https://localhost:8080/"
        },
        "id": "bLIwg6psliqJ",
        "outputId": "faad5e96-ac9d-4bd9-dac4-b2b71b6d7459"
      },
      "outputs": [
        {
          "output_type": "stream",
          "name": "stdout",
          "text": [
            "Sample of the time series data:\n",
            "    Timestamp  Open  High   Low  Close  Volume_(BTC)  Volume_(Currency)  \\\n",
            "0  1325317920  4.39  4.39  4.39   4.39      0.455581                2.0   \n",
            "1  1325317980   NaN   NaN   NaN    NaN           NaN                NaN   \n",
            "2  1325318040   NaN   NaN   NaN    NaN           NaN                NaN   \n",
            "3  1325318100   NaN   NaN   NaN    NaN           NaN                NaN   \n",
            "4  1325318160   NaN   NaN   NaN    NaN           NaN                NaN   \n",
            "\n",
            "   Weighted_Price  \n",
            "0            4.39  \n",
            "1             NaN  \n",
            "2             NaN  \n",
            "3             NaN  \n",
            "4             NaN  \n",
            "Preprocessed time series data:\n",
            "                               Open  High   Low  Close  Volume_(BTC)  \\\n",
            "Timestamp                                                              \n",
            "1970-01-01 00:00:01.325317920  4.39  4.39  4.39   4.39      0.455581   \n",
            "1970-01-01 00:00:01.325317980   NaN   NaN   NaN    NaN           NaN   \n",
            "1970-01-01 00:00:01.325318040   NaN   NaN   NaN    NaN           NaN   \n",
            "1970-01-01 00:00:01.325318100   NaN   NaN   NaN    NaN           NaN   \n",
            "1970-01-01 00:00:01.325318160   NaN   NaN   NaN    NaN           NaN   \n",
            "\n",
            "                               Volume_(Currency)  Weighted_Price  Year  Month  \\\n",
            "Timestamp                                                                       \n",
            "1970-01-01 00:00:01.325317920                2.0            4.39  1970      1   \n",
            "1970-01-01 00:00:01.325317980                NaN             NaN  1970      1   \n",
            "1970-01-01 00:00:01.325318040                NaN             NaN  1970      1   \n",
            "1970-01-01 00:00:01.325318100                NaN             NaN  1970      1   \n",
            "1970-01-01 00:00:01.325318160                NaN             NaN  1970      1   \n",
            "\n",
            "                               Day  DayOfWeek  Close_Lag_1  Close_Lag_2  \\\n",
            "Timestamp                                                                 \n",
            "1970-01-01 00:00:01.325317920    1          3          NaN          NaN   \n",
            "1970-01-01 00:00:01.325317980    1          3         4.39          NaN   \n",
            "1970-01-01 00:00:01.325318040    1          3          NaN         4.39   \n",
            "1970-01-01 00:00:01.325318100    1          3          NaN          NaN   \n",
            "1970-01-01 00:00:01.325318160    1          3          NaN          NaN   \n",
            "\n",
            "                               Close_Lag_3  \n",
            "Timestamp                                   \n",
            "1970-01-01 00:00:01.325317920          NaN  \n",
            "1970-01-01 00:00:01.325317980          NaN  \n",
            "1970-01-01 00:00:01.325318040          NaN  \n",
            "1970-01-01 00:00:01.325318100         4.39  \n",
            "1970-01-01 00:00:01.325318160          NaN  \n"
          ]
        }
      ],
      "source": [
        "import pandas as pd\n",
        "\n",
        "# Load the dataset\n",
        "file_path = \"bitstampUSD_1-min_data_2012-01-01_to_2021-03-31 2.csv\"\n",
        "bitcoin_data = pd.read_csv(file_path)\n",
        "\n",
        "# Explore the Data\n",
        "print(\"Sample of the time series data:\")\n",
        "print(bitcoin_data.head())\n",
        "\n",
        "# Check if 'Timestamp' column exists in the DataFrame\n",
        "if 'Timestamp' not in bitcoin_data.columns:\n",
        "    print(\"Error: 'Timestamp' column not found in the DataFrame.\")\n",
        "    # Print the list of columns to inspect their names\n",
        "    print(\"Columns in the DataFrame:\", bitcoin_data.columns)\n",
        "else:\n",
        "    # Handle Datetime Features\n",
        "    bitcoin_data['Timestamp'] = pd.to_datetime(bitcoin_data['Timestamp'])  # Convert 'Timestamp' column to DateTime objects\n",
        "    bitcoin_data.set_index('Timestamp', inplace=True)  # Set the 'Timestamp' column as the index\n",
        "\n",
        "    # Extract Time-Based Information\n",
        "    bitcoin_data['Year'] = bitcoin_data.index.year\n",
        "    bitcoin_data['Month'] = bitcoin_data.index.month\n",
        "    bitcoin_data['Day'] = bitcoin_data.index.day\n",
        "    bitcoin_data['DayOfWeek'] = bitcoin_data.index.dayofweek\n",
        "\n",
        "    # Create Lag Features\n",
        "    # Example: Creating lag features for the 'Close' price\n",
        "    for i in range(1, 4):  # Create lag features for the previous 3 days\n",
        "        bitcoin_data[f'Close_Lag_{i}'] = bitcoin_data['Close'].shift(i)\n",
        "\n",
        "    # Verify Preprocessing\n",
        "    print(\"Preprocessed time series data:\")\n",
        "    print(bitcoin_data.head())\n"
      ]
    }
  ]
}