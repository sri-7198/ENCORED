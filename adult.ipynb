{
  "nbformat": 4,
  "nbformat_minor": 0,
  "metadata": {
    "colab": {
      "provenance": [],
      "authorship_tag": "ABX9TyPeLTPDq9lbx3BwLHon2s1d",
      "include_colab_link": true
    },
    "kernelspec": {
      "name": "python3",
      "display_name": "Python 3"
    },
    "language_info": {
      "name": "python"
    }
  },
  "cells": [
    {
      "cell_type": "markdown",
      "metadata": {
        "id": "view-in-github",
        "colab_type": "text"
      },
      "source": [
        "<a href=\"https://colab.research.google.com/github/sri-7198/ENCORED/blob/main/adult.ipynb\" target=\"_parent\"><img src=\"https://colab.research.google.com/assets/colab-badge.svg\" alt=\"Open In Colab\"/></a>"
      ]
    },
    {
      "cell_type": "code",
      "execution_count": 5,
      "metadata": {
        "colab": {
          "base_uri": "https://localhost:8080/"
        },
        "id": "d0ObaUTJVZlM",
        "outputId": "65e7b9af-654c-4e39-eea9-689188ba26b7"
      },
      "outputs": [
        {
          "output_type": "stream",
          "name": "stdout",
          "text": [
            "Duplicate rows have been successfully removed.\n"
          ]
        }
      ],
      "source": [
        "import pandas as pd\n",
        "\n",
        "# Load the dataset\n",
        "file_path = \"adult.data\"\n",
        "column_names = [\"age\", \"workclass\", \"fnlwgt\", \"education\", \"education-num\", \"marital-status\",\n",
        "                \"occupation\", \"relationship\", \"race\", \"sex\", \"capital-gain\", \"capital-loss\",\n",
        "                \"hours-per-week\", \"native-country\", \"income\"]\n",
        "adult_data = pd.read_csv(file_path, names=column_names, na_values=' ?')\n",
        "\n",
        "# Identify duplicate rows\n",
        "duplicate_rows = adult_data.duplicated()\n",
        "\n",
        "# Remove duplicate rows\n",
        "cleaned_adult_data = adult_data.drop_duplicates()\n",
        "\n",
        "# Verify removal\n",
        "if cleaned_adult_data.duplicated().sum() == 0:\n",
        "    print(\"Duplicate rows have been successfully removed.\")\n",
        "else:\n",
        "    print(\"Duplicate rows are still present in the dataset.\")\n"
      ]
    }
  ]
}