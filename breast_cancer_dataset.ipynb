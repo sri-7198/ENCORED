{
  "nbformat": 4,
  "nbformat_minor": 0,
  "metadata": {
    "colab": {
      "provenance": [],
      "authorship_tag": "ABX9TyPIDe9st2dTKzHNFcUVWaMd",
      "include_colab_link": true
    },
    "kernelspec": {
      "name": "python3",
      "display_name": "Python 3"
    },
    "language_info": {
      "name": "python"
    }
  },
  "cells": [
    {
      "cell_type": "markdown",
      "metadata": {
        "id": "view-in-github",
        "colab_type": "text"
      },
      "source": [
        "<a href=\"https://colab.research.google.com/github/sri-7198/ENCORED/blob/main/breast_cancer_dataset.ipynb\" target=\"_parent\"><img src=\"https://colab.research.google.com/assets/colab-badge.svg\" alt=\"Open In Colab\"/></a>"
      ]
    },
    {
      "cell_type": "code",
      "execution_count": 1,
      "metadata": {
        "colab": {
          "base_uri": "https://localhost:8080/"
        },
        "id": "W_SLLg66gxGs",
        "outputId": "17c6612f-ab38-4eac-d5e1-dff32779422d"
      },
      "outputs": [
        {
          "output_type": "stream",
          "name": "stdout",
          "text": [
            "Encoded Data:\n",
            "         id  radius_mean  texture_mean  perimeter_mean  area_mean  \\\n",
            "0    842302        17.99         10.38          122.80     1001.0   \n",
            "1    842517        20.57         17.77          132.90     1326.0   \n",
            "2  84300903        19.69         21.25          130.00     1203.0   \n",
            "3  84348301        11.42         20.38           77.58      386.1   \n",
            "4  84358402        20.29         14.34          135.10     1297.0   \n",
            "\n",
            "   smoothness_mean  compactness_mean  concavity_mean  concave_points_mean  \\\n",
            "0          0.11840           0.27760          0.3001              0.14710   \n",
            "1          0.08474           0.07864          0.0869              0.07017   \n",
            "2          0.10960           0.15990          0.1974              0.12790   \n",
            "3          0.14250           0.28390          0.2414              0.10520   \n",
            "4          0.10030           0.13280          0.1980              0.10430   \n",
            "\n",
            "   symmetry_mean  ...  perimeter_worst  area_worst  smoothness_worst  \\\n",
            "0         0.2419  ...           184.60      2019.0            0.1622   \n",
            "1         0.1812  ...           158.80      1956.0            0.1238   \n",
            "2         0.2069  ...           152.50      1709.0            0.1444   \n",
            "3         0.2597  ...            98.87       567.7            0.2098   \n",
            "4         0.1809  ...           152.20      1575.0            0.1374   \n",
            "\n",
            "   compactness_worst  concavity_worst  concave_points_worst  symmetry_worst  \\\n",
            "0             0.6656           0.7119                0.2654          0.4601   \n",
            "1             0.1866           0.2416                0.1860          0.2750   \n",
            "2             0.4245           0.4504                0.2430          0.3613   \n",
            "3             0.8663           0.6869                0.2575          0.6638   \n",
            "4             0.2050           0.4000                0.1625          0.2364   \n",
            "\n",
            "   fractal_dimension_worst  diagnosis_B  diagnosis_M  \n",
            "0                  0.11890            0            1  \n",
            "1                  0.08902            0            1  \n",
            "2                  0.08758            0            1  \n",
            "3                  0.17300            0            1  \n",
            "4                  0.07678            0            1  \n",
            "\n",
            "[5 rows x 33 columns]\n"
          ]
        }
      ],
      "source": [
        "import pandas as pd\n",
        "\n",
        "# Load the dataset\n",
        "file_url = \"wdbc.data\"\n",
        "column_names = [\n",
        "    \"id\", \"diagnosis\", \"radius_mean\", \"texture_mean\", \"perimeter_mean\",\n",
        "    \"area_mean\", \"smoothness_mean\", \"compactness_mean\", \"concavity_mean\",\n",
        "    \"concave_points_mean\", \"symmetry_mean\", \"fractal_dimension_mean\",\n",
        "    \"radius_se\", \"texture_se\", \"perimeter_se\", \"area_se\", \"smoothness_se\",\n",
        "    \"compactness_se\", \"concavity_se\", \"concave_points_se\", \"symmetry_se\",\n",
        "    \"fractal_dimension_se\", \"radius_worst\", \"texture_worst\",\n",
        "    \"perimeter_worst\", \"area_worst\", \"smoothness_worst\",\n",
        "    \"compactness_worst\", \"concavity_worst\", \"concave_points_worst\",\n",
        "    \"symmetry_worst\", \"fractal_dimension_worst\"\n",
        "]\n",
        "breast_cancer_data = pd.read_csv(file_url, names=column_names)\n",
        "\n",
        "# Step 2: Identify Categorical Variables\n",
        "categorical_columns = ['diagnosis']\n",
        "\n",
        "# Step 3: Encode Categorical Variables\n",
        "# Option 1: One-Hot Encoding\n",
        "encoded_data = pd.get_dummies(breast_cancer_data, columns=categorical_columns)\n",
        "\n",
        "# Option 2: Label Encoding\n",
        "# from sklearn.preprocessing import LabelEncoder\n",
        "# encoder = LabelEncoder()\n",
        "# breast_cancer_data['diagnosis'] = encoder.fit_transform(breast_cancer_data['diagnosis'])\n",
        "\n",
        "# Step 4: Verify Encoding\n",
        "print(\"Encoded Data:\")\n",
        "print(encoded_data.head())"
      ]
    }
  ]
}