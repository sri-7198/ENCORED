{
  "nbformat": 4,
  "nbformat_minor": 0,
  "metadata": {
    "colab": {
      "provenance": [],
      "authorship_tag": "ABX9TyOvjhLNrQX2wCQ63cEAkXlE",
      "include_colab_link": true
    },
    "kernelspec": {
      "name": "python3",
      "display_name": "Python 3"
    },
    "language_info": {
      "name": "python"
    }
  },
  "cells": [
    {
      "cell_type": "markdown",
      "metadata": {
        "id": "view-in-github",
        "colab_type": "text"
      },
      "source": [
        "<a href=\"https://colab.research.google.com/github/sri-7198/ENCORED/blob/main/Titanic_dataset.ipynb\" target=\"_parent\"><img src=\"https://colab.research.google.com/assets/colab-badge.svg\" alt=\"Open In Colab\"/></a>"
      ]
    },
    {
      "cell_type": "code",
      "execution_count": 1,
      "metadata": {
        "colab": {
          "base_uri": "https://localhost:8080/"
        },
        "id": "dWoIjetYUxVW",
        "outputId": "991897d1-70d5-4e0a-c6d0-897240dc3d3e"
      },
      "outputs": [
        {
          "output_type": "stream",
          "name": "stdout",
          "text": [
            "\n",
            "Handling Missing Values for gender_submission.csv:\n",
            "Missing Values:\n",
            "PassengerId    0\n",
            "Survived       0\n",
            "dtype: int64\n",
            "\n",
            "After Handling Missing Values:\n",
            "PassengerId    0\n",
            "Survived       0\n",
            "dtype: int64\n",
            "\n",
            "Handling Missing Values for test.csv:\n",
            "Missing Values:\n",
            "PassengerId      0\n",
            "Pclass           0\n",
            "Name             0\n",
            "Sex              0\n",
            "Age             86\n",
            "SibSp            0\n",
            "Parch            0\n",
            "Ticket           0\n",
            "Fare             1\n",
            "Cabin          327\n",
            "Embarked         0\n",
            "dtype: int64\n",
            "\n",
            "After Handling Missing Values:\n",
            "PassengerId    0\n",
            "Pclass         0\n",
            "Name           0\n",
            "Sex            0\n",
            "Age            0\n",
            "SibSp          0\n",
            "Parch          0\n",
            "Ticket         0\n",
            "Fare           0\n",
            "Cabin          0\n",
            "Embarked       0\n",
            "dtype: int64\n",
            "\n",
            "Handling Missing Values for train.csv:\n",
            "Missing Values:\n",
            "PassengerId      0\n",
            "Survived         0\n",
            "Pclass           0\n",
            "Name             0\n",
            "Sex              0\n",
            "Age            177\n",
            "SibSp            0\n",
            "Parch            0\n",
            "Ticket           0\n",
            "Fare             0\n",
            "Cabin          687\n",
            "Embarked         2\n",
            "dtype: int64\n",
            "\n",
            "After Handling Missing Values:\n",
            "PassengerId    0\n",
            "Survived       0\n",
            "Pclass         0\n",
            "Name           0\n",
            "Sex            0\n",
            "Age            0\n",
            "SibSp          0\n",
            "Parch          0\n",
            "Ticket         0\n",
            "Fare           0\n",
            "Cabin          0\n",
            "Embarked       0\n",
            "dtype: int64\n"
          ]
        }
      ],
      "source": [
        "import pandas as pd\n",
        "\n",
        "# Define a function to handle missing values\n",
        "def handle_missing_values(dataset):\n",
        "    # Step 1: Identify Missing Values\n",
        "    missing_values = dataset.isnull().sum()\n",
        "    print(\"Missing Values:\")\n",
        "    print(missing_values)\n",
        "\n",
        "    # Step 2: Handle Missing Values\n",
        "    # Example: Impute missing values for numerical columns with the median\n",
        "    for column in dataset.select_dtypes(include=['number']).columns:\n",
        "        median_value = dataset[column].median()\n",
        "        dataset[column].fillna(median_value, inplace=True)\n",
        "\n",
        "    # Example: Remove rows with missing values in categorical columns\n",
        "    dataset.dropna(subset=dataset.select_dtypes(include=['object']).columns, inplace=True)\n",
        "\n",
        "    # Confirm no missing values remain\n",
        "    print(\"\\nAfter Handling Missing Values:\")\n",
        "    print(dataset.isnull().sum())\n",
        "\n",
        "# Load the datasets\n",
        "file_paths = [\"gender_submission.csv\", \"test.csv\", \"train.csv\"]\n",
        "for file_path in file_paths:\n",
        "    print(f\"\\nHandling Missing Values for {file_path}:\")\n",
        "    dataset = pd.read_csv(file_path)\n",
        "    handle_missing_values(dataset)\n"
      ]
    }
  ]
}