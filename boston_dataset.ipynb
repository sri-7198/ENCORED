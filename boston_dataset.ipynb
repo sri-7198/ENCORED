{
  "nbformat": 4,
  "nbformat_minor": 0,
  "metadata": {
    "colab": {
      "provenance": [],
      "authorship_tag": "ABX9TyMc0Jz1GHlwTdjZCvYxGamj",
      "include_colab_link": true
    },
    "kernelspec": {
      "name": "python3",
      "display_name": "Python 3"
    },
    "language_info": {
      "name": "python"
    }
  },
  "cells": [
    {
      "cell_type": "markdown",
      "metadata": {
        "id": "view-in-github",
        "colab_type": "text"
      },
      "source": [
        "<a href=\"https://colab.research.google.com/github/sri-7198/ENCORED/blob/main/boston_dataset.ipynb\" target=\"_parent\"><img src=\"https://colab.research.google.com/assets/colab-badge.svg\" alt=\"Open In Colab\"/></a>"
      ]
    },
    {
      "cell_type": "code",
      "execution_count": 3,
      "metadata": {
        "colab": {
          "base_uri": "https://localhost:8080/"
        },
        "id": "TIMzhlbSj60H",
        "outputId": "8befc9bd-5aa1-4634-fbfa-47c46c044df7"
      },
      "outputs": [
        {
          "output_type": "stream",
          "name": "stdout",
          "text": [
            "Number of outliers detected: 67\n",
            "Data shape before trimming: (506, 14)\n",
            "Data shape after trimming: (439, 14)\n"
          ]
        }
      ],
      "source": [
        "import pandas as pd\n",
        "\n",
        "# Load the dataset\n",
        "file_path = \"boston.csv\"  # Assuming the dataset is saved as \"house_prices_data.csv\"\n",
        "house_prices_data = pd.read_csv(file_path)\n",
        "\n",
        "# Explore the dataset and identify numerical features\n",
        "numerical_features = house_prices_data.select_dtypes(include=['int64', 'float64'])\n",
        "\n",
        "# Identify outliers using z-score\n",
        "from scipy import stats\n",
        "z_scores = stats.zscore(numerical_features)\n",
        "outlier_threshold = 3\n",
        "outliers = (z_scores > outlier_threshold).any(axis=1)\n",
        "\n",
        "# Trim outliers from the dataset\n",
        "trimmed_data = house_prices_data[~outliers]\n",
        "\n",
        "# Perform further analysis or modeling with trimmed_data\n",
        "\n",
        "print(\"Number of outliers detected:\", outliers.sum())\n",
        "print(\"Data shape before trimming:\", house_prices_data.shape)\n",
        "print(\"Data shape after trimming:\", trimmed_data.shape)\n"
      ]
    }
  ]
}